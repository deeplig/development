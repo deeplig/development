{
 "cells": [
  {
   "cell_type": "code",
   "execution_count": null,
   "id": "5dab69b4",
   "metadata": {},
   "outputs": [],
   "source": [
    "from rdkit import Chem\n",
    "from rdkit.Chem import MACCSkeys, Draw\n",
    "import pandas as pd\n",
    "import numpy as np\n",
    "import json\n",
    "from sklearn.decomposition import PCA\n",
    "from sklearn.cluster import AgglomerativeClustering\n",
    "import matplotlib.pyplot as plt\n",
    "import seaborn as sns\n",
    "\n",
    "# Charger les SMILES depuis le fichier\n",
    "with open(\"ligands.txt\", \"r\") as f:\n",
    "    smiles_list = [line.strip() for line in f if line.strip()]\n",
    "\n",
    "# Charger le dictionnaire des scores de docking\n",
    "with open(\"ligand_dict.txt\", \"r\") as f:\n",
    "    score_dict = json.load(f)\n",
    "\n",
    "# Convertir les SMILES en Mol et associer les scores\n",
    "mols = []\n",
    "valid_smiles = []\n",
    "scores = []\n",
    "\n",
    "for smi in smiles_list:\n",
    "    mol = Chem.MolFromSmiles(smi)\n",
    "    if mol is not None:\n",
    "        mols.append(mol)\n",
    "        valid_smiles.append(smi)\n",
    "        scores.append(score_dict.get(smi, None))  # None si absent\n"
   ]
  },
  {
   "cell_type": "code",
   "execution_count": null,
   "id": "a7ef75d4",
   "metadata": {},
   "outputs": [],
   "source": [
    "# Générer les MACCS fingerprints\n",
    "fps = [MACCSkeys.GenMACCSKeys(mol) for mol in mols]\n",
    "fps_array = np.array([fp.ToList() for fp in fps])\n",
    "\n",
    "# Réduction de dimension par PCA\n",
    "pca = PCA(n_components=2)\n",
    "fps_pca = pca.fit_transform(fps_array)\n",
    "\n",
    "# Clustering hiérarchique\n",
    "clusterer = AgglomerativeClustering(n_clusters=4)\n",
    "labels = clusterer.fit_predict(fps_array)\n",
    "\n",
    "# Créer un dataframe\n",
    "df = pd.DataFrame(fps_pca, columns=[\"PC1\", \"PC2\"])\n",
    "df[\"SMILES\"] = valid_smiles\n",
    "df[\"Cluster\"] = labels.astype(str)\n",
    "df[\"Score\"] = scores\n"
   ]
  },
  {
   "cell_type": "code",
   "execution_count": null,
   "id": "158739e6",
   "metadata": {},
   "outputs": [],
   "source": [
    "# Affichage PCA avec scores en couleurs\n",
    "plt.figure(figsize=(10, 6))\n",
    "sc = plt.scatter(df[\"PC1\"], df[\"PC2\"], c=df[\"Score\"], cmap=\"viridis\", s=100, edgecolor='k')\n",
    "plt.title(\"PCA des MACCS (coloré par score de docking)\")\n",
    "plt.xlabel(\"PC1\")\n",
    "plt.ylabel(\"PC2\")\n",
    "plt.colorbar(sc, label=\"Docking Score\")\n",
    "plt.grid(True)\n",
    "plt.show()\n"
   ]
  },
  {
   "cell_type": "code",
   "execution_count": null,
   "id": "289aabd5",
   "metadata": {},
   "outputs": [],
   "source": [
    "# Sauvegarder les clusters avec scores\n",
    "df.to_csv(\"clusters_maccs_scores.csv\", index=False)\n",
    "print(\"Fichier 'clusters_maccs_scores.csv' exporté.\")\n"
   ]
  },
  {
   "cell_type": "code",
   "execution_count": null,
   "id": "8c2deb7c",
   "metadata": {},
   "outputs": [],
   "source": [
    "from IPython.display import display\n",
    "\n",
    "n_per_cluster = 3\n",
    "for clust in sorted(df[\"Cluster\"].unique()):\n",
    "    sub_df = df[df[\"Cluster\"] == clust].nsmallest(n_per_cluster, \"Score\")\n",
    "    mols_to_draw = [Chem.MolFromSmiles(smi) for smi in sub_df[\"SMILES\"]]\n",
    "    legends = [f\"{smi}\\nScore: {score:.2f}\" for smi, score in zip(sub_df[\"SMILES\"], sub_df[\"Score\"])]\n",
    "    print(f\"Cluster {clust} - Meilleurs scores :\")\n",
    "    display(Draw.MolsToGridImage(mols_to_draw, molsPerRow=3, subImgSize=(200, 200), legends=legends))\n"
   ]
  }
 ],
 "metadata": {
  "kernelspec": {
   "display_name": "Python 3",
   "language": "python",
   "name": "python3"
  }
 },
 "nbformat": 4,
 "nbformat_minor": 5
}
