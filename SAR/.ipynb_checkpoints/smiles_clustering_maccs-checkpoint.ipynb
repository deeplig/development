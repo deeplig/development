{
 "cells": [
  {
   "cell_type": "code",
   "execution_count": null,
   "id": "3aa4051a",
   "metadata": {},
   "outputs": [],
   "source": [
    "from rdkit import Chem\n",
    "from rdkit.Chem import MACCSkeys, Draw\n",
    "import pandas as pd\n",
    "import numpy as np\n",
    "from sklearn.decomposition import PCA\n",
    "from sklearn.cluster import AgglomerativeClustering\n",
    "import matplotlib.pyplot as plt\n",
    "import seaborn as sns\n",
    "\n",
    "# 1. Lire les SMILES depuis le fichier\n",
    "with open(\"ligands.txt\", \"r\") as f:\n",
    "    smiles_list = [line.strip() for line in f if line.strip()]\n",
    "\n",
    "# 2. Convertir en objets Mol RDKit\n",
    "mols = [Chem.MolFromSmiles(smi) for smi in smiles_list]\n",
    "\n",
    "# 3. Supprimer les molécules non valides\n",
    "valid_mols = [mol for mol in mols if mol is not None]\n",
    "valid_smiles = [smi for mol, smi in zip(mols, smiles_list) if mol is not None]\n"
   ]
  },
  {
   "cell_type": "code",
   "execution_count": null,
   "id": "ecf1e6f6",
   "metadata": {},
   "outputs": [],
   "source": [
    "# 4. Générer les MACCS fingerprints\n",
    "fps = [MACCSkeys.GenMACCSKeys(mol) for mol in valid_mols]\n",
    "fps_array = np.array([fp.ToList() for fp in fps])\n",
    "\n",
    "# 5. Réduction de dimension par PCA\n",
    "pca = PCA(n_components=2)\n",
    "fps_pca = pca.fit_transform(fps_array)\n",
    "\n",
    "# 6. Clustering hiérarchique (Agglomerative)\n",
    "clusterer = AgglomerativeClustering(n_clusters=4)\n",
    "labels = clusterer.fit_predict(fps_array)\n",
    "\n",
    "# 7. Dataframe pour visualisation\n",
    "df = pd.DataFrame(fps_pca, columns=[\"PC1\", \"PC2\"])\n",
    "df[\"SMILES\"] = valid_smiles\n",
    "df[\"Cluster\"] = labels.astype(str)\n"
   ]
  },
  {
   "cell_type": "code",
   "execution_count": null,
   "id": "5412a4a0",
   "metadata": {},
   "outputs": [],
   "source": [
    "# 8. Affichage PCA avec clusters\n",
    "plt.figure(figsize=(10, 6))\n",
    "sns.scatterplot(data=df, x=\"PC1\", y=\"PC2\", hue=\"Cluster\", palette=\"tab10\", s=100)\n",
    "plt.title(\"Clustering des molécules sur empreintes MACCS (PCA)\")\n",
    "plt.xlabel(\"PC1\")\n",
    "plt.ylabel(\"PC2\")\n",
    "plt.legend(title=\"Cluster\")\n",
    "plt.grid(True)\n",
    "plt.show()\n"
   ]
  },
  {
   "cell_type": "code",
   "execution_count": null,
   "id": "ebb0e964",
   "metadata": {},
   "outputs": [],
   "source": [
    "# 9. Sauvegarder les clusters dans un fichier CSV\n",
    "df.to_csv(\"clusters_maccs.csv\", index=False)\n",
    "print(\"Fichier 'clusters_maccs.csv' exporté.\")\n"
   ]
  },
  {
   "cell_type": "code",
   "execution_count": null,
   "id": "747c9898",
   "metadata": {},
   "outputs": [],
   "source": [
    "# 10. Affichage d'exemples de molécules par cluster\n",
    "from IPython.display import display\n",
    "\n",
    "n_per_cluster = 3  # nombre de molécules par cluster à afficher\n",
    "for clust in sorted(df['Cluster'].unique()):\n",
    "    sub_df = df[df['Cluster'] == clust].head(n_per_cluster)\n",
    "    mols_to_draw = [Chem.MolFromSmiles(smi) for smi in sub_df[\"SMILES\"]]\n",
    "    print(f\"Cluster {clust} - exemples :\")\n",
    "    display(Draw.MolsToGridImage(mols_to_draw, molsPerRow=3, subImgSize=(200, 200)))\n"
   ]
  }
 ],
 "metadata": {
  "kernelspec": {
   "display_name": "Python 3",
   "language": "python",
   "name": "python3"
  }
 },
 "nbformat": 4,
 "nbformat_minor": 5
}
